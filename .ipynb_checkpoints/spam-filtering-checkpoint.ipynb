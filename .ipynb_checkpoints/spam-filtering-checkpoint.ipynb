{
 "cells": [
  {
   "cell_type": "code",
   "execution_count": 316,
   "metadata": {
    "scrolled": true
   },
   "outputs": [
    {
     "name": "stdout",
     "output_type": "stream",
     "text": [
      "['customer', 'service', 'announcement', 'congratulations', 'you', 'have', 'a', 'new', 'years', 'delivery', 'waiting', 'for', 'you', 'please', 'call', '07046744435', 'now', 'to', 'arrange', 'your', 'new', 'delivery']\n",
      "--------------------------------------------------------------------------------------------------------------------\n",
      "['claim', 'won', 'winner', 'new', 'call', 'urgent', 'mobiles', 'congratulations']\n"
     ]
    }
   ],
   "source": [
    "from nltk.tokenize import word_tokenize\n",
    "from nltk.corpus import stopwords\n",
    "from nltk.stem import WordNetLemmatizer\n",
    "from nltk.stem import SnowballStemmer\n",
    "import pandas as pd\n",
    "import re\n",
    "\n",
    "#Contoh text yang akan dicek apakah termasuk spam atau tidak\n",
    "text = \"Customer service announcement. Congratulations! You have a New Years delivery waiting for you. Please call 07046744435 now to arrange your new delivery\"\n",
    "\n",
    "#Mengubah text ke menjadi huruf kecil\n",
    "text = text.lower()\n",
    "#Menghilangkan character seperti . , dll\n",
    "text = re.sub('[^A-Za-z0-9 ]+', '', text)\n",
    "\n",
    "#Kamus kata-kata spam\n",
    "kamus_spam = \"Claim Won Winner New Call Urgent Mobiles Congratulations\"\n",
    "#Mengubah text menjadi huruf kecil\n",
    "kamus_spam = kamus_spam.lower()\n",
    "\n",
    "#Variabel text dan kamus_spam yang telah ditokenisasi\n",
    "text_tokenized = word_tokenize(text)\n",
    "kamus_spam_tokenized = word_tokenize(kamus_spam)\n",
    "\n",
    "\n",
    "print(text_tokenized)\n",
    "print(\"--------------------------------------------------------------------------------------------------------------------\")\n",
    "print(kamus_spam_tokenized)"
   ]
  },
  {
   "cell_type": "code",
   "execution_count": 317,
   "metadata": {},
   "outputs": [
    {
     "name": "stdout",
     "output_type": "stream",
     "text": [
      "['customer', 'service', 'announcement', 'congratulations', 'new', 'years', 'delivery', 'waiting', 'please', 'call', '07046744435', 'arrange', 'new', 'delivery']\n",
      "['claim', 'winner', 'new', 'call', 'urgent', 'mobiles', 'congratulations']\n"
     ]
    }
   ],
   "source": [
    "#Menghilangkan stopwords pada contoh text\n",
    "stopword = stopwords.words('english')\n",
    "word_tokens = text_tokenized\n",
    "removing_stopwords = [word for word in word_tokens if word not in stopword]\n",
    "print (removing_stopwords)\n",
    "\n",
    "#Menghilangkan stopwords pada kamus kata-kata spam\n",
    "spam_word_tokens = kamus_spam_tokenized\n",
    "removing_stopwords_spam = [word for word in spam_word_tokens if word not in stopword]\n",
    "print (removing_stopwords_spam)"
   ]
  },
  {
   "cell_type": "code",
   "execution_count": 318,
   "metadata": {},
   "outputs": [
    {
     "name": "stdout",
     "output_type": "stream",
     "text": [
      "customer service announcement congratulations new years delivery waiting please call 07046744435 arrange new delivery\n",
      "-----------------------------------------------------------------------------------------------------\n",
      "claim winner new call urgent mobiles congratulations\n"
     ]
    }
   ],
   "source": [
    "#Mengubah list menjadi string\n",
    "def converttostr(input_seq, seperator):\n",
    "   # Join all the strings in list\n",
    "   final_str = seperator.join(input_seq)\n",
    "   return final_str\n",
    "\n",
    "seperator = ' '\n",
    "\n",
    "#Mengubah list contoh text menjadi string\n",
    "word_tokens = word_tokenize(converttostr(removing_stopwords, seperator))\n",
    "print(converttostr(removing_stopwords, seperator))\n",
    "\n",
    "print(\"-----------------------------------------------------------------------------------------------------\")\n",
    "\n",
    "#Mengubah list kata-kata spam menjadi string\n",
    "spam_word_tokens = word_tokenize(converttostr(removing_stopwords_spam, seperator))\n",
    "print(converttostr(removing_stopwords_spam, seperator))"
   ]
  },
  {
   "cell_type": "code",
   "execution_count": 322,
   "metadata": {},
   "outputs": [
    {
     "name": "stdout",
     "output_type": "stream",
     "text": [
      "['customer', 'service', 'announcement', 'congratulation', 'new', 'year', 'delivery', 'waiting', 'please', 'call', '07046744435', 'arrange', 'new', 'delivery']\n",
      "['claim', 'winner', 'new', 'call', 'urgent', 'mobile', 'congratulation']\n"
     ]
    }
   ],
   "source": [
    "#Lemmatisasi dari contoh text\n",
    "wordnet_lemmatizer = WordNetLemmatizer()\n",
    "text = [wordnet_lemmatizer.lemmatize(word) for word in word_tokens]\n",
    "print (text)\n",
    "\n",
    "#Lemmatisasi dari kata-kata spam\n",
    "kamus_spam = [wordnet_lemmatizer.lemmatize(word) for word in spam_word_tokens]\n",
    "print (kamus_spam)"
   ]
  },
  {
   "cell_type": "code",
   "execution_count": 323,
   "metadata": {},
   "outputs": [
    {
     "name": "stdout",
     "output_type": "stream",
     "text": [
      "customer service announcement congratulation new year delivery waiting please call 07046744435 arrange new delivery\n"
     ]
    }
   ],
   "source": [
    "#Mengubah list menjadi string\n",
    "def converttostr(input_seq, seperator):\n",
    "   # Join all the strings in list\n",
    "   final_str = seperator.join(input_seq)\n",
    "   return final_str\n",
    "\n",
    "seperator = ' '\n",
    "\n",
    "#Mengubah list contoh text menjadi string\n",
    "word_tokens = word_tokenize(converttostr(text, seperator))\n",
    "print(converttostr(text, seperator)) #str"
   ]
  },
  {
   "cell_type": "code",
   "execution_count": 325,
   "metadata": {},
   "outputs": [
    {
     "name": "stdout",
     "output_type": "stream",
     "text": [
      "{'customer': 1, 'service': 1, 'announcement': 1, 'congratulation': 1, 'new': 2, 'year': 1, 'delivery': 2, 'waiting': 1, 'please': 1, 'call': 1, '07046744435': 1, 'arrange': 1}\n"
     ]
    }
   ],
   "source": [
    "#Variabel words untuk menyimpan string yang akan dihitung word frequency nya\n",
    "words = converttostr(text, seperator).split()\n",
    "\n",
    "#Proses menghitung word frequency\n",
    "unwanted_chars = \".,-_\"\n",
    "wordfreq = {}\n",
    "for raw_word in words:\n",
    "    word = raw_word.strip(unwanted_chars)\n",
    "    if word not in wordfreq:\n",
    "        wordfreq[word] = 0 \n",
    "    wordfreq[word] += 1\n",
    "\n",
    "print(wordfreq)"
   ]
  },
  {
   "cell_type": "code",
   "execution_count": 326,
   "metadata": {},
   "outputs": [
    {
     "name": "stdout",
     "output_type": "stream",
     "text": [
      "{'new', 'call', 'congratulation'}\n",
      "4\n"
     ]
    }
   ],
   "source": [
    "#Variabel checked untuk menyimpan data yang sama diantara kedua list (list contoh text & list kamus_spam)\n",
    "checked = set(text) & set(kamus_spam)\n",
    "print(checked)\n",
    "\n",
    "#Proses menambahkan value dari key yang sama pada variabel checked\n",
    "values = []\n",
    "for character in checked:\n",
    "    for key, value in wordfreq.items():\n",
    "        if key == character:\n",
    "            values.append(value)\n",
    "\n",
    "result = sum(values)\n",
    "print(result)"
   ]
  },
  {
   "cell_type": "code",
   "execution_count": 327,
   "metadata": {},
   "outputs": [
    {
     "name": "stdout",
     "output_type": "stream",
     "text": [
      "14\n",
      "7\n"
     ]
    }
   ],
   "source": [
    "print(len(text)) #Menghitung panjang list contoh text\n",
    "print(len(kamus_spam)) #Menghitung panjang list kamus_spam"
   ]
  },
  {
   "cell_type": "code",
   "execution_count": 328,
   "metadata": {},
   "outputs": [
    {
     "name": "stdout",
     "output_type": "stream",
     "text": [
      "28 %\n"
     ]
    }
   ],
   "source": [
    "#Menghitung presentase spam pada contoh text\n",
    "hasil = int(result/len(text)*100)\n",
    "print(int(hasil),\"%\")"
   ]
  },
  {
   "cell_type": "code",
   "execution_count": 331,
   "metadata": {},
   "outputs": [
    {
     "name": "stdout",
     "output_type": "stream",
     "text": [
      "Threshold = 70 %\n",
      "-----------------------------------------------------\n",
      "Contoh teks bukan spam, presentase spam = 28 %\n"
     ]
    }
   ],
   "source": [
    "threshold = int(0.70*100) #70%\n",
    "\n",
    "print(\"Threshold =\", threshold,\"%\")\n",
    "print(\"-----------------------------------------------------\")\n",
    "\n",
    "if hasil > threshold:\n",
    "    print(\"Contoh teks adalah spam, presentase spam =\", hasil,\"%\")\n",
    "else:\n",
    "    print(\"Contoh teks bukan spam, presentase spam =\", hasil,\"%\")"
   ]
  },
  {
   "cell_type": "code",
   "execution_count": null,
   "metadata": {},
   "outputs": [],
   "source": []
  }
 ],
 "metadata": {
  "kernelspec": {
   "display_name": "Python 3",
   "language": "python",
   "name": "python3"
  },
  "language_info": {
   "codemirror_mode": {
    "name": "ipython",
    "version": 3
   },
   "file_extension": ".py",
   "mimetype": "text/x-python",
   "name": "python",
   "nbconvert_exporter": "python",
   "pygments_lexer": "ipython3",
   "version": "3.7.1"
  }
 },
 "nbformat": 4,
 "nbformat_minor": 2
}
